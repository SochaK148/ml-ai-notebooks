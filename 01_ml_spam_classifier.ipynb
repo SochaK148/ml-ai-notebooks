{
  "cells": [
    {
      "cell_type": "markdown",
      "metadata": {
        "id": "-VbRQsPbJ18m"
      },
      "source": [
        "**Project: Machine Learning Spam Classifier**"
      ]
    },
    {
      "cell_type": "markdown",
      "metadata": {
        "id": "UpEcC5-mJ8Jm"
      },
      "source": [
        "*A Machine Learning application that predicts whether an email is spam or not*"
      ]
    },
    {
      "cell_type": "markdown",
      "metadata": {
        "id": "stCj80d1KKFz"
      },
      "source": [
        "# 1. Background and Theory"
      ]
    },
    {
      "cell_type": "markdown",
      "metadata": {
        "id": "EaMEg3uSKY6S"
      },
      "source": [
        "**1. What is Machine Learning?**\n",
        "\n",
        "Machine Learning is a scientific discipline that focuses on developing algorithms that allow computers to evolve behaviors based on empirical data. In simpler terms, it's about building systems that can learn from data. Unlike traditional algorithms, where explicit instructions are given for every task, machine learning algorithms use data to refine their operations. Essentially, the system's learning means improving at a task over time, given a specific performance measure."
      ]
    },
    {
      "cell_type": "markdown",
      "metadata": {
        "id": "C1pVVefuKgj9"
      },
      "source": [
        "**2. When is Machine Learning Useful?**\n",
        "\n",
        "Machine Learning is particularly valuable in situations where:\n",
        "\n",
        "*   We face problems too complex to be solved with traditional or algorithmic approaches.\n",
        "*   Hand-tuning of rules and parameters is infeasible because of the vast complexity.\n",
        "*   The environment in which the system operates fluctuates or evolves, necessitating the system to adapt over time.\n",
        "*   Insights need to be derived from large amounts of data (data mining)."
      ]
    },
    {
      "cell_type": "markdown",
      "metadata": {
        "id": "tY7I_dXmKwcW"
      },
      "source": [
        "**3. What's the Role of Data in Machine Learning?**\n",
        "\n",
        "Data plays a pivotal role in training machine learning systems. A **labeled training set** provides both the input data and the desired solution (label) for each instance. This set serves as the ground truth for supervised learning tasks."
      ]
    },
    {
      "cell_type": "markdown",
      "metadata": {
        "id": "tZY6Sz8uK6Vv"
      },
      "source": [
        "**4. Types of Common Supervised Tasks:**\n",
        "\n",
        "*   **Regression:** Here, the objective is to predict a continuous value. For example, predicting the price of a house based on its features.\n",
        "*   **Classification:** In this task, the goal is to predict a class label. For instance, determining whether an email is spam or not."
      ]
    },
    {
      "cell_type": "markdown",
      "metadata": {
        "id": "JNPVZaoKLXNH"
      },
      "source": [
        "**5. Model-based Learning:**\n",
        "\n",
        "In model-based learning, the objective is to determine the optimal parameters for a model such that it can make accurate predictions on new, unseen data. These algorithms seek an optimal value for model parameters so they generalize well. They often involve a cost function, which quantifies how wrong the model's predictions are. A good model strikes a balance between fitting the data well (low bias) and not being overly complex (low variance)."
      ]
    },
    {
      "cell_type": "markdown",
      "metadata": {
        "id": "Mqtd3MBzLbE9"
      },
      "source": [
        "**6. Challenges in Machine Learning:**\n",
        "\n",
        "Machine Learning isn't magic. It's only as good as the data and the way we use it. Some challenges practitioners face are:\n",
        "\n",
        "*   **Insufficient Quantity of Data:** More data often leads to better models. But gathering data can be time-consuming and expensive.\n",
        "*   **Poor Data Quality:** Noisy, erroneous, or inconsistent data can drastically degrade the model's performance.\n",
        "*   **Non-representative Data:** For generalization, it's essential to have data that represents all classes and scenarios the model will face in the real world.\n",
        "*   **Irrelevant Features:** A model's performance is heavily dependent on the input features. Irrelevant or redundant features can obscure the important ones.\n",
        "*   **Overfitting:** When a model performs exceedingly well on training data but poorly on unseen data, it might be capturing noise rather than underlying patterns.\n",
        "*   **Underfitting:** On the contrary, when a model is too simple to capture the underlying structure of the data, it may underfit."
      ]
    },
    {
      "cell_type": "markdown",
      "metadata": {
        "id": "dJqdtJkwLu4Q"
      },
      "source": [
        "**7. Ensuring Generalization:**\n",
        "\n",
        "For a model to be valuable, it needs to generalize well to new, unseen instances. One common way to assess generalization is to use a **test set**—a subset of the data not used during training. This set can provide an estimate of the model's performance in real-world scenarios."
      ]
    },
    {
      "cell_type": "markdown",
      "metadata": {
        "id": "scpdLhykL2qr"
      },
      "source": [
        "# 2. Data Loading and Exploration\n",
        "Before any machine learning tasks, we must acquire and understand the data. This step ensures that we have the right quality and quantity of data."
      ]
    },
    {
      "cell_type": "markdown",
      "source": [
        "The data is fetched from URLs containing spam and ham (non-spam) datasets."
      ],
      "metadata": {
        "id": "_Th2sMb6GrqH"
      }
    },
    {
      "cell_type": "code",
      "execution_count": 1,
      "metadata": {
        "id": "ljg51-A6Jeog",
        "colab": {
          "base_uri": "https://localhost:8080/"
        },
        "outputId": "762448ff-3677-43cc-c3a5-40dfcbbfa70b"
      },
      "outputs": [
        {
          "output_type": "stream",
          "name": "stdout",
          "text": [
            "4150 ham samples retrieved\n",
            "1896 spam samples retrieved\n"
          ]
        }
      ],
      "source": [
        "import os\n",
        "from pathlib import Path\n",
        "import tarfile\n",
        "import urllib.request\n",
        "\n",
        "BASE_URL = \"http://spamassassin.apache.org/old/publiccorpus/\"\n",
        "SAVE_PATH = Path(\"datasets/spam\")\n",
        "\n",
        "DATA_SOURCES = {\n",
        "    \"easy_ham\": {\"url_suffix\": \"20030228_easy_ham.tar.bz2\"},\n",
        "    \"easy_ham_2\": {\"url_suffix\": \"20030228_easy_ham_2.tar.bz2\"},\n",
        "    \"hard_ham\": {\"url_suffix\": \"20030228_hard_ham.tar.bz2\"},\n",
        "    \"spam\": {\"url_suffix\": \"20030228_spam.tar.bz2\"},\n",
        "    \"spam_2\": {\"url_suffix\": \"20050311_spam_2.tar.bz2\"},\n",
        "}\n",
        "\n",
        "def ensure_directory_exists(directory):\n",
        "    if not directory.exists():\n",
        "        directory.mkdir(parents=True, exist_ok=True)\n",
        "\n",
        "def download_and_extract(dataset_name, url):\n",
        "    archive_path = SAVE_PATH / f\"{dataset_name}.tar.bz2\"\n",
        "\n",
        "    if not (SAVE_PATH / dataset_name).exists():\n",
        "        print(f\"Fetching {archive_path}...\")\n",
        "        urllib.request.urlretrieve(url, archive_path)\n",
        "\n",
        "        with tarfile.open(archive_path, \"r\") as archive_file:\n",
        "            archive_file.extractall(SAVE_PATH)\n",
        "\n",
        "def retrieve_data():\n",
        "    ensure_directory_exists(SAVE_PATH)\n",
        "\n",
        "    for name, data in DATA_SOURCES.items():\n",
        "        full_url = os.path.join(BASE_URL, data[\"url_suffix\"])\n",
        "        download_and_extract(name, full_url)\n",
        "\n",
        "def list_files_with_length_check(directory, length_check = 20):\n",
        "    return [f for f in sorted(directory.iterdir()) if len(f.name) > length_check]\n",
        "\n",
        "def fetch_spam_data():\n",
        "    retrieve_data()\n",
        "\n",
        "    ham_files = list_files_with_length_check(SAVE_PATH / \"easy_ham\") + \\\n",
        "                list_files_with_length_check(SAVE_PATH / \"easy_ham_2\") + \\\n",
        "                list_files_with_length_check(SAVE_PATH / \"hard_ham\")\n",
        "\n",
        "    spam_files = list_files_with_length_check(SAVE_PATH / \"spam\") + \\\n",
        "                 list_files_with_length_check(SAVE_PATH / \"spam_2\")\n",
        "\n",
        "    return ham_files, spam_files\n",
        "\n",
        "\n",
        "ham_filenames, spam_filenames = fetch_spam_data()\n",
        "print(f\"{len(ham_filenames)} ham samples retrieved\")\n",
        "print(f\"{len(spam_filenames)} spam samples retrieved\")"
      ]
    },
    {
      "cell_type": "markdown",
      "source": [
        "By observing a few examples of the data (both ham and spam), we can gain insights into potential patterns or differences between the two categories."
      ],
      "metadata": {
        "id": "8lGfHk1OGu8V"
      }
    },
    {
      "cell_type": "code",
      "source": [
        "import email\n",
        "from email import policy, parser\n",
        "\n",
        "def fetch_email_content(email_path):\n",
        "    with email_path.open(\"rb\") as file:\n",
        "        return parser.BytesParser(policy=policy.default).parse(file)\n",
        "\n",
        "def find_html_email(emails):\n",
        "    for mail in emails:\n",
        "        if mail.get_content_type() == \"text/html\":\n",
        "            return mail\n",
        "    return None\n",
        "\n",
        "ham_email_contents = [fetch_email_content(path) for path in ham_filenames]\n",
        "spam_email_contents = [fetch_email_content(path) for path in spam_filenames]\n",
        "\n",
        "print(\"Ham email:\\n\", ham_email_contents[42].get_content().strip()[:200], \"...\\n\")\n",
        "print(\"Spam email:\\n\", spam_email_contents[42].get_content().strip()[:200], \"...\")"
      ],
      "metadata": {
        "colab": {
          "base_uri": "https://localhost:8080/"
        },
        "id": "Gd9c13_D8o0y",
        "outputId": "29ee82d2-478d-44e2-fbcf-71eb713d60ea"
      },
      "execution_count": 2,
      "outputs": [
        {
          "output_type": "stream",
          "name": "stdout",
          "text": [
            "Ham email:\n",
            " < >\n",
            "> I downloaded a driver from the nVidia website and installed it using RPM.\n",
            "> Then I ran Sax2 (as was recommended in some postings I found on the net),\n",
            "but\n",
            "> it still doesn't feature my video card ...\n",
            "\n",
            "Spam email:\n",
            " Help wanted.  We are a 14 year old fortune 500 company, that is\n",
            "growing at a tremendous rate.  We are looking for individuals who\n",
            "want to work from home.\n",
            "\n",
            "This is an opportunity to make an excellent i ...\n"
          ]
        }
      ]
    },
    {
      "cell_type": "markdown",
      "source": [
        "Emails are complex structures with headers, body content (which can be in plain text or HTML), and sometimes attachments. Understanding this structure helps in preprocessing and feature extraction."
      ],
      "metadata": {
        "id": "V9sHhh3PG7Xu"
      }
    },
    {
      "cell_type": "code",
      "source": [
        "from typing import Union\n",
        "from collections import Counter\n",
        "\n",
        "def email_content_structure(mail):\n",
        "    if isinstance(mail, str):\n",
        "        return mail\n",
        "\n",
        "    content = mail.get_payload()\n",
        "\n",
        "    if isinstance(content, list):\n",
        "        return \"multipart({})\".format(\", \".join(email_content_structure(sub) for sub in content))\n",
        "\n",
        "    return mail.get_content_type()\n",
        "\n",
        "def count_email_structures(email_list):\n",
        "    return Counter(email_content_structure(mail) for mail in email_list)\n",
        "\n",
        "ham_structures = count_email_structures(ham_email_contents)\n",
        "spam_structures = count_email_structures(spam_email_contents)\n",
        "\n",
        "print(\"\\n\".join([str(t) for t in ham_structures.most_common()]), end=\"\\n\\n\")\n",
        "print(\"\\n\".join([str(t) for t in spam_structures.most_common()]))"
      ],
      "metadata": {
        "colab": {
          "base_uri": "https://localhost:8080/"
        },
        "id": "_7eT7P4V81b0",
        "outputId": "c085c591-a27b-4fdb-bc41-163f1874df6b"
      },
      "execution_count": 3,
      "outputs": [
        {
          "output_type": "stream",
          "name": "stdout",
          "text": [
            "('text/plain', 3832)\n",
            "('text/html', 120)\n",
            "('multipart(text/plain, application/pgp-signature)', 101)\n",
            "('multipart(text/plain, text/html)', 63)\n",
            "('multipart(text/plain, text/plain)', 5)\n",
            "('multipart(text/plain)', 3)\n",
            "('multipart(text/plain, application/ms-tnef, text/plain)', 2)\n",
            "('multipart(text/plain, application/octet-stream)', 2)\n",
            "('multipart(text/plain, multipart(text/plain))', 2)\n",
            "('multipart(text/plain, application/x-pkcs7-signature)', 2)\n",
            "('multipart(text/plain, multipart(text/plain, text/plain), text/rfc822-headers)', 2)\n",
            "('multipart(text/html)', 2)\n",
            "('multipart(text/plain, text/enriched)', 1)\n",
            "('multipart(multipart(text/plain, text/plain, text/plain), application/pgp-signature)', 1)\n",
            "('multipart(text/plain, video/mng)', 1)\n",
            "('multipart(text/plain, multipart(text/plain, text/plain), multipart(multipart(text/plain, application/x-pkcs7-signature)))', 1)\n",
            "('multipart(text/plain, application/x-java-applet)', 1)\n",
            "('multipart(text/plain, application/x-patch)', 1)\n",
            "('multipart(multipart(text/plain, multipart(text/plain), text/plain), application/pgp-signature)', 1)\n",
            "('multipart(multipart(text/plain, text/html), image/jpeg, image/gif, image/gif, image/gif, image/gif)', 1)\n",
            "('multipart(text/plain, application/ms-tnef)', 1)\n",
            "('multipart(text/plain, text/plain, text/plain)', 1)\n",
            "('multipart(text/plain, image/bmp)', 1)\n",
            "('multipart(multipart(text/plain, text/html))', 1)\n",
            "('multipart(text/plain, image/png, image/png)', 1)\n",
            "('multipart(multipart(text/plain, text/html), image/gif, image/gif, image/gif, image/gif, image/gif, image/gif, image/gif, image/gif, image/gif, image/gif, image/gif, image/jpeg, image/gif, image/gif, image/gif, image/gif, image/gif, image/gif)', 1)\n",
            "\n",
            "('text/plain', 815)\n",
            "('text/html', 772)\n",
            "('multipart(text/plain, text/html)', 159)\n",
            "('multipart(text/html)', 49)\n",
            "('multipart(text/plain)', 44)\n",
            "('multipart(multipart(text/html))', 23)\n",
            "('multipart(multipart(text/plain, text/html))', 5)\n",
            "('multipart(text/plain, application/octet-stream)', 3)\n",
            "('multipart(text/html, text/plain)', 3)\n",
            "('multipart(text/plain, image/jpeg)', 3)\n",
            "('multipart(text/plain, application/octet-stream, text/plain)', 3)\n",
            "('multipart(text/html, application/octet-stream)', 2)\n",
            "('multipart/alternative', 2)\n",
            "('multipart(text/html, image/jpeg)', 2)\n",
            "('multipart(multipart(text/plain), application/octet-stream)', 2)\n",
            "('multipart(multipart(text/html), application/octet-stream, image/jpeg)', 1)\n",
            "('multipart(multipart(text/plain, text/html), image/gif)', 1)\n",
            "('multipart(text/plain, multipart(text/plain))', 1)\n",
            "('multipart(multipart(text/plain, text/html), image/jpeg, image/jpeg, image/jpeg, image/jpeg, image/jpeg)', 1)\n",
            "('multipart(multipart(text/plain, text/html), image/jpeg, image/jpeg, image/jpeg, image/jpeg, image/gif)', 1)\n",
            "('text/plain charset=us-ascii', 1)\n",
            "('multipart(multipart(text/html), image/gif)', 1)\n",
            "('multipart(multipart(text/plain, text/html), application/octet-stream, application/octet-stream, application/octet-stream, application/octet-stream)', 1)\n",
            "('multipart(multipart(text/plain, text/html), image/gif, image/jpeg)', 1)\n"
          ]
        }
      ]
    },
    {
      "cell_type": "markdown",
      "source": [
        "# 3. Data Preprocessing\n",
        "\n",
        "Raw data often isn't in a format that's immediately ready for machine learning algorithms. Preprocessing prepares this data, making it suitable for feeding into models."
      ],
      "metadata": {
        "id": "Y3GC6w899Jt_"
      }
    },
    {
      "cell_type": "markdown",
      "source": [
        "Many emails are in HTML format. However, ML models require numerical or categorical data. Hence, HTML emails are converted to plain text. This step simplifies the data without losing essential information."
      ],
      "metadata": {
        "id": "60MfBmZgHJT1"
      }
    },
    {
      "cell_type": "code",
      "execution_count": 4,
      "metadata": {
        "colab": {
          "base_uri": "https://localhost:8080/"
        },
        "id": "Wxqs7jc1LwHH",
        "outputId": "d3aa13fa-ad56-4527-a611-a926a5ccf520"
      },
      "outputs": [
        {
          "output_type": "stream",
          "name": "stdout",
          "text": [
            "Save up to 70% on Life Insurance.\n",
            "Why Spend More Than You Have To?\n",
            "Life Quote Savings\n",
            "Ensuring your\n",
            "family's financial security is very important. Life Quote Savings makes\n",
            "buying life insurance simple ...\n"
          ]
        }
      ],
      "source": [
        "from bs4 import BeautifulSoup\n",
        "\n",
        "def html_to_plain_text(raw_html):\n",
        "    soup = BeautifulSoup(raw_html, 'html.parser')\n",
        "    for script in soup([\"script\", \"style\"]):\n",
        "        script.extract()\n",
        "    text = soup.get_text()\n",
        "    lines = (line.strip() for line in text.splitlines())\n",
        "    chunks = (phrase.strip() for line in lines for phrase in line.split(\"  \"))\n",
        "    cleaned_text = '\\n'.join(chunk for chunk in chunks if chunk)\n",
        "    return cleaned_text\n",
        "\n",
        "def extract_text_from_email(mail):\n",
        "    html_content = None\n",
        "\n",
        "    for part in mail.walk():\n",
        "        content_type = part.get_content_type()\n",
        "\n",
        "        if content_type not in [\"text/plain\", \"text/html\"]:\n",
        "            continue\n",
        "\n",
        "        try:\n",
        "            content_data = part.get_content()\n",
        "        except Exception:\n",
        "            content_data = str(part.get_payload())\n",
        "\n",
        "        if content_type == \"text/plain\":\n",
        "            return content_data\n",
        "        elif content_type == \"text/html\":\n",
        "            html_content = content_data\n",
        "\n",
        "    if html_content:\n",
        "        return html_to_plain_text(html_content)\n",
        "\n",
        "example_html_spam = find_html_email(spam_email_contents)\n",
        "print(extract_text_from_email(example_html_spam)[:200], \"...\")"
      ]
    },
    {
      "cell_type": "markdown",
      "source": [
        "Real-world data is often noisy. By introducing typos, we simulate this noise, potentially improving the model's robustness. This mirrors the concept of data augmentation, a technique where training data is artificially augmented to improve model generalization.\n",
        "\n",
        "Text data is tokenized and then transformed into a numerical format using Term Frequency-Inverse Document Frequency (TF-IDF). TF-IDF is a statistical measure that evaluates the importance of a word in a document relative to a collection of documents. It gives more weight to terms that are more significant to a particular document and less weight to terms that are common across all documents."
      ],
      "metadata": {
        "id": "xFFFYOlOHTu2"
      }
    },
    {
      "cell_type": "code",
      "execution_count": 5,
      "metadata": {
        "id": "gRcc76YvP2ej",
        "colab": {
          "base_uri": "https://localhost:8080/"
        },
        "outputId": "25b550b7-808d-4f34-d95b-89ced243f7b8"
      },
      "outputs": [
        {
          "output_type": "stream",
          "name": "stdout",
          "text": [
            "Requirement already satisfied: urlextract in /usr/local/lib/python3.10/dist-packages (1.8.0)\n",
            "Requirement already satisfied: idna in /usr/local/lib/python3.10/dist-packages (from urlextract) (3.4)\n",
            "Requirement already satisfied: uritools in /usr/local/lib/python3.10/dist-packages (from urlextract) (4.0.2)\n",
            "Requirement already satisfied: platformdirs in /usr/local/lib/python3.10/dist-packages (from urlextract) (3.11.0)\n",
            "Requirement already satisfied: filelock in /usr/local/lib/python3.10/dist-packages (from urlextract) (3.12.4)\n"
          ]
        }
      ],
      "source": [
        "%pip install urlextract\n",
        "\n",
        "import nltk\n",
        "import random\n",
        "import urlextract\n",
        "\n",
        "stemmer = nltk.PorterStemmer()\n",
        "url_extractor = urlextract.URLExtract()\n",
        "\n",
        "def introduce_typos(text, typo_chance=0.02):\n",
        "    typos = {\n",
        "        'a': 'q', 's': 'w', 'z': 'x', 'c': 'x', 'n': 'b', 'm': 'n',\n",
        "    }\n",
        "    return ''.join([typos[char] if char in typos and random.random() < typo_chance else char for char in text])\n",
        "\n",
        "from sklearn.feature_extraction.text import TfidfVectorizer\n",
        "from sklearn.base import BaseEstimator, TransformerMixin\n",
        "import re\n",
        "\n",
        "class EmailTypoIntroducer(BaseEstimator, TransformerMixin):\n",
        "    def __init__(self, typo_chance=0.02):\n",
        "        self.typo_chance = typo_chance\n",
        "\n",
        "    def fit(self, X, y=None):\n",
        "        return self\n",
        "\n",
        "    def transform(self, X, y=None):\n",
        "        return [introduce_typos(email, self.typo_chance) for email in X]\n",
        "from sklearn.pipeline import Pipeline\n",
        "\n",
        "class EmailToTfidfTransformer(BaseEstimator, TransformerMixin):\n",
        "    def __init__(self, strip_headers=True, replace_urls=True,\n",
        "                 replace_numbers=True, stemming=True):\n",
        "        self.strip_headers = strip_headers\n",
        "        self.replace_urls = replace_urls\n",
        "        self.replace_numbers = replace_numbers\n",
        "        self.stemming = stemming\n",
        "        self.vectorizer = TfidfVectorizer(stop_words=\"english\", max_features=5000)\n",
        "\n",
        "    def _preprocess_emails(self, X):\n",
        "        X_transformed = []\n",
        "        for email in X:\n",
        "            text = email or \"\"\n",
        "            if self.replace_urls and url_extractor is not None:\n",
        "                urls = list(set(url_extractor.find_urls(text)))\n",
        "                urls.sort(key=lambda url: len(url), reverse=True)\n",
        "                for url in urls:\n",
        "                    text = text.replace(url, \" URL \")\n",
        "            if self.replace_numbers:\n",
        "                text = re.sub(r'\\d+(?:\\.\\d*)?(?:[eE][+-]?\\d+)?', 'NUMBER', text)\n",
        "            if self.stemming and stemmer is not None:\n",
        "                text = \" \".join([stemmer.stem(word) for word in text.split()])\n",
        "            X_transformed.append(text)\n",
        "        return X_transformed\n",
        "\n",
        "    def fit(self, X, y=None):\n",
        "        X_transformed = self._preprocess_emails(X)\n",
        "        self.vectorizer.fit(X_transformed)\n",
        "        return self\n",
        "\n",
        "    def transform(self, X, y=None):\n",
        "        X_transformed = self._preprocess_emails(X)\n",
        "        return self.vectorizer.transform(X_transformed)"
      ]
    },
    {
      "cell_type": "markdown",
      "source": [
        "# 4. Building the models\n",
        "Once the data is prepared, we train various classifiers to distinguish between spam and ham emails."
      ],
      "metadata": {
        "id": "sdVKx6LK_Rzr"
      }
    },
    {
      "cell_type": "markdown",
      "source": [
        "**Train-Test Split**: Ensures we have separate data for training and validating the model. This separation helps in evaluating the model's performance on unseen data, providing an estimate of its real-world performance."
      ],
      "metadata": {
        "id": "8I_GwlMSHdmJ"
      }
    },
    {
      "cell_type": "code",
      "execution_count": 6,
      "metadata": {
        "id": "-MQqNSEkVSz9"
      },
      "outputs": [],
      "source": [
        "import numpy as np\n",
        "from sklearn.model_selection import train_test_split\n",
        "from sklearn.pipeline import Pipeline\n",
        "from sklearn.preprocessing import StandardScaler\n",
        "\n",
        "X = np.array(ham_email_contents + spam_email_contents, dtype=object)\n",
        "y = np.array([0] * len(ham_email_contents) + [1] * len(spam_email_contents))\n",
        "X_train, X_test, y_train, y_test = train_test_split(X, y, test_size=0.2, random_state=42)\n",
        "\n",
        "preprocess_pipeline = Pipeline([\n",
        "    (\"typo_introducer\", EmailTypoIntroducer()),\n",
        "    (\"email_to_tfidf\", EmailToTfidfTransformer())\n",
        "])\n",
        "\n",
        "X_train_transformed = preprocess_pipeline.fit_transform(X_train)\n",
        "X_test_transformed = preprocess_pipeline.transform(X_test)"
      ]
    },
    {
      "cell_type": "code",
      "execution_count": 7,
      "metadata": {
        "id": "H8ODzAz4qdqF"
      },
      "outputs": [],
      "source": [
        "from sklearn.neighbors import KNeighborsClassifier\n",
        "from sklearn.model_selection import GridSearchCV\n",
        "from sklearn.svm import SVC\n",
        "from sklearn.model_selection import RandomizedSearchCV\n",
        "from scipy.stats import loguniform, expon, randint\n",
        "from sklearn.ensemble import RandomForestClassifier\n",
        "from sklearn.linear_model import LogisticRegression\n",
        "from sklearn.metrics import precision_score, recall_score, f1_score"
      ]
    },
    {
      "cell_type": "markdown",
      "source": [
        "**KNN (K-Nearest Neighbors)**: A non-parametric method that classifies a sample based on the majority class of its 'k' nearest samples in the training set. The notion of 'distance' (often Euclidean) determines 'nearness'."
      ],
      "metadata": {
        "id": "E3lwfGKy6Haf"
      }
    },
    {
      "cell_type": "code",
      "source": [
        "knn_clf_email = KNeighborsClassifier()\n",
        "param_grid_knn = [{'weights': [\"uniform\", \"distance\"], 'n_neighbors': [3, 4, 5]}]\n",
        "grid_search_knn = GridSearchCV(knn_clf_email, param_grid_knn, cv=5)\n",
        "grid_search_knn.fit(X_train_transformed, y_train)"
      ],
      "metadata": {
        "colab": {
          "base_uri": "https://localhost:8080/",
          "height": 117
        },
        "id": "viDXXta557RC",
        "outputId": "0b466771-b9e4-4b58-80b5-ca397c842f72"
      },
      "execution_count": 8,
      "outputs": [
        {
          "output_type": "execute_result",
          "data": {
            "text/plain": [
              "GridSearchCV(cv=5, estimator=KNeighborsClassifier(),\n",
              "             param_grid=[{'n_neighbors': [3, 4, 5],\n",
              "                          'weights': ['uniform', 'distance']}])"
            ],
            "text/html": [
              "<style>#sk-container-id-1 {color: black;background-color: white;}#sk-container-id-1 pre{padding: 0;}#sk-container-id-1 div.sk-toggleable {background-color: white;}#sk-container-id-1 label.sk-toggleable__label {cursor: pointer;display: block;width: 100%;margin-bottom: 0;padding: 0.3em;box-sizing: border-box;text-align: center;}#sk-container-id-1 label.sk-toggleable__label-arrow:before {content: \"▸\";float: left;margin-right: 0.25em;color: #696969;}#sk-container-id-1 label.sk-toggleable__label-arrow:hover:before {color: black;}#sk-container-id-1 div.sk-estimator:hover label.sk-toggleable__label-arrow:before {color: black;}#sk-container-id-1 div.sk-toggleable__content {max-height: 0;max-width: 0;overflow: hidden;text-align: left;background-color: #f0f8ff;}#sk-container-id-1 div.sk-toggleable__content pre {margin: 0.2em;color: black;border-radius: 0.25em;background-color: #f0f8ff;}#sk-container-id-1 input.sk-toggleable__control:checked~div.sk-toggleable__content {max-height: 200px;max-width: 100%;overflow: auto;}#sk-container-id-1 input.sk-toggleable__control:checked~label.sk-toggleable__label-arrow:before {content: \"▾\";}#sk-container-id-1 div.sk-estimator input.sk-toggleable__control:checked~label.sk-toggleable__label {background-color: #d4ebff;}#sk-container-id-1 div.sk-label input.sk-toggleable__control:checked~label.sk-toggleable__label {background-color: #d4ebff;}#sk-container-id-1 input.sk-hidden--visually {border: 0;clip: rect(1px 1px 1px 1px);clip: rect(1px, 1px, 1px, 1px);height: 1px;margin: -1px;overflow: hidden;padding: 0;position: absolute;width: 1px;}#sk-container-id-1 div.sk-estimator {font-family: monospace;background-color: #f0f8ff;border: 1px dotted black;border-radius: 0.25em;box-sizing: border-box;margin-bottom: 0.5em;}#sk-container-id-1 div.sk-estimator:hover {background-color: #d4ebff;}#sk-container-id-1 div.sk-parallel-item::after {content: \"\";width: 100%;border-bottom: 1px solid gray;flex-grow: 1;}#sk-container-id-1 div.sk-label:hover label.sk-toggleable__label {background-color: #d4ebff;}#sk-container-id-1 div.sk-serial::before {content: \"\";position: absolute;border-left: 1px solid gray;box-sizing: border-box;top: 0;bottom: 0;left: 50%;z-index: 0;}#sk-container-id-1 div.sk-serial {display: flex;flex-direction: column;align-items: center;background-color: white;padding-right: 0.2em;padding-left: 0.2em;position: relative;}#sk-container-id-1 div.sk-item {position: relative;z-index: 1;}#sk-container-id-1 div.sk-parallel {display: flex;align-items: stretch;justify-content: center;background-color: white;position: relative;}#sk-container-id-1 div.sk-item::before, #sk-container-id-1 div.sk-parallel-item::before {content: \"\";position: absolute;border-left: 1px solid gray;box-sizing: border-box;top: 0;bottom: 0;left: 50%;z-index: -1;}#sk-container-id-1 div.sk-parallel-item {display: flex;flex-direction: column;z-index: 1;position: relative;background-color: white;}#sk-container-id-1 div.sk-parallel-item:first-child::after {align-self: flex-end;width: 50%;}#sk-container-id-1 div.sk-parallel-item:last-child::after {align-self: flex-start;width: 50%;}#sk-container-id-1 div.sk-parallel-item:only-child::after {width: 0;}#sk-container-id-1 div.sk-dashed-wrapped {border: 1px dashed gray;margin: 0 0.4em 0.5em 0.4em;box-sizing: border-box;padding-bottom: 0.4em;background-color: white;}#sk-container-id-1 div.sk-label label {font-family: monospace;font-weight: bold;display: inline-block;line-height: 1.2em;}#sk-container-id-1 div.sk-label-container {text-align: center;}#sk-container-id-1 div.sk-container {/* jupyter's `normalize.less` sets `[hidden] { display: none; }` but bootstrap.min.css set `[hidden] { display: none !important; }` so we also need the `!important` here to be able to override the default hidden behavior on the sphinx rendered scikit-learn.org. See: https://github.com/scikit-learn/scikit-learn/issues/21755 */display: inline-block !important;position: relative;}#sk-container-id-1 div.sk-text-repr-fallback {display: none;}</style><div id=\"sk-container-id-1\" class=\"sk-top-container\"><div class=\"sk-text-repr-fallback\"><pre>GridSearchCV(cv=5, estimator=KNeighborsClassifier(),\n",
              "             param_grid=[{&#x27;n_neighbors&#x27;: [3, 4, 5],\n",
              "                          &#x27;weights&#x27;: [&#x27;uniform&#x27;, &#x27;distance&#x27;]}])</pre><b>In a Jupyter environment, please rerun this cell to show the HTML representation or trust the notebook. <br />On GitHub, the HTML representation is unable to render, please try loading this page with nbviewer.org.</b></div><div class=\"sk-container\" hidden><div class=\"sk-item sk-dashed-wrapped\"><div class=\"sk-label-container\"><div class=\"sk-label sk-toggleable\"><input class=\"sk-toggleable__control sk-hidden--visually\" id=\"sk-estimator-id-1\" type=\"checkbox\" ><label for=\"sk-estimator-id-1\" class=\"sk-toggleable__label sk-toggleable__label-arrow\">GridSearchCV</label><div class=\"sk-toggleable__content\"><pre>GridSearchCV(cv=5, estimator=KNeighborsClassifier(),\n",
              "             param_grid=[{&#x27;n_neighbors&#x27;: [3, 4, 5],\n",
              "                          &#x27;weights&#x27;: [&#x27;uniform&#x27;, &#x27;distance&#x27;]}])</pre></div></div></div><div class=\"sk-parallel\"><div class=\"sk-parallel-item\"><div class=\"sk-item\"><div class=\"sk-label-container\"><div class=\"sk-label sk-toggleable\"><input class=\"sk-toggleable__control sk-hidden--visually\" id=\"sk-estimator-id-2\" type=\"checkbox\" ><label for=\"sk-estimator-id-2\" class=\"sk-toggleable__label sk-toggleable__label-arrow\">estimator: KNeighborsClassifier</label><div class=\"sk-toggleable__content\"><pre>KNeighborsClassifier()</pre></div></div></div><div class=\"sk-serial\"><div class=\"sk-item\"><div class=\"sk-estimator sk-toggleable\"><input class=\"sk-toggleable__control sk-hidden--visually\" id=\"sk-estimator-id-3\" type=\"checkbox\" ><label for=\"sk-estimator-id-3\" class=\"sk-toggleable__label sk-toggleable__label-arrow\">KNeighborsClassifier</label><div class=\"sk-toggleable__content\"><pre>KNeighborsClassifier()</pre></div></div></div></div></div></div></div></div></div></div>"
            ]
          },
          "metadata": {},
          "execution_count": 8
        }
      ]
    },
    {
      "cell_type": "markdown",
      "source": [
        "**SVM (Support Vector Machines)**: A powerful classifier that works by finding a hyperplane that best separates the classes of data. It's especially effective in high-dimensional spaces."
      ],
      "metadata": {
        "id": "rhzyPz8T6PFx"
      }
    },
    {
      "cell_type": "code",
      "source": [
        "param_grid_svc = [\n",
        "    {'kernel': ['linear'], 'C': loguniform(1, 10)},\n",
        "    {'kernel': ['rbf'], 'C': loguniform(1, 10), 'gamma': expon(scale=1.0)},\n",
        "]\n",
        "\n",
        "svc_clf = SVC(class_weight='balanced')\n",
        "rnd_search_svc = RandomizedSearchCV(svc_clf, param_distributions=param_grid_svc, n_iter=50, cv=5)\n",
        "rnd_search_svc.fit(X_train_transformed, y_train)"
      ],
      "metadata": {
        "colab": {
          "base_uri": "https://localhost:8080/",
          "height": 117
        },
        "id": "VEdr07BQ5_12",
        "outputId": "a8d81bed-e445-4e45-b137-3b0ce56ef91c"
      },
      "execution_count": 9,
      "outputs": [
        {
          "output_type": "execute_result",
          "data": {
            "text/plain": [
              "RandomizedSearchCV(cv=5, estimator=SVC(class_weight='balanced'), n_iter=50,\n",
              "                   param_distributions=[{'C': <scipy.stats._distn_infrastructure.rv_continuous_frozen object at 0x780725df2740>,\n",
              "                                         'kernel': ['linear']},\n",
              "                                        {'C': <scipy.stats._distn_infrastructure.rv_continuous_frozen object at 0x780725df2a40>,\n",
              "                                         'gamma': <scipy.stats._distn_infrastructure.rv_continuous_frozen object at 0x780725df2800>,\n",
              "                                         'kernel': ['rbf']}])"
            ],
            "text/html": [
              "<style>#sk-container-id-2 {color: black;background-color: white;}#sk-container-id-2 pre{padding: 0;}#sk-container-id-2 div.sk-toggleable {background-color: white;}#sk-container-id-2 label.sk-toggleable__label {cursor: pointer;display: block;width: 100%;margin-bottom: 0;padding: 0.3em;box-sizing: border-box;text-align: center;}#sk-container-id-2 label.sk-toggleable__label-arrow:before {content: \"▸\";float: left;margin-right: 0.25em;color: #696969;}#sk-container-id-2 label.sk-toggleable__label-arrow:hover:before {color: black;}#sk-container-id-2 div.sk-estimator:hover label.sk-toggleable__label-arrow:before {color: black;}#sk-container-id-2 div.sk-toggleable__content {max-height: 0;max-width: 0;overflow: hidden;text-align: left;background-color: #f0f8ff;}#sk-container-id-2 div.sk-toggleable__content pre {margin: 0.2em;color: black;border-radius: 0.25em;background-color: #f0f8ff;}#sk-container-id-2 input.sk-toggleable__control:checked~div.sk-toggleable__content {max-height: 200px;max-width: 100%;overflow: auto;}#sk-container-id-2 input.sk-toggleable__control:checked~label.sk-toggleable__label-arrow:before {content: \"▾\";}#sk-container-id-2 div.sk-estimator input.sk-toggleable__control:checked~label.sk-toggleable__label {background-color: #d4ebff;}#sk-container-id-2 div.sk-label input.sk-toggleable__control:checked~label.sk-toggleable__label {background-color: #d4ebff;}#sk-container-id-2 input.sk-hidden--visually {border: 0;clip: rect(1px 1px 1px 1px);clip: rect(1px, 1px, 1px, 1px);height: 1px;margin: -1px;overflow: hidden;padding: 0;position: absolute;width: 1px;}#sk-container-id-2 div.sk-estimator {font-family: monospace;background-color: #f0f8ff;border: 1px dotted black;border-radius: 0.25em;box-sizing: border-box;margin-bottom: 0.5em;}#sk-container-id-2 div.sk-estimator:hover {background-color: #d4ebff;}#sk-container-id-2 div.sk-parallel-item::after {content: \"\";width: 100%;border-bottom: 1px solid gray;flex-grow: 1;}#sk-container-id-2 div.sk-label:hover label.sk-toggleable__label {background-color: #d4ebff;}#sk-container-id-2 div.sk-serial::before {content: \"\";position: absolute;border-left: 1px solid gray;box-sizing: border-box;top: 0;bottom: 0;left: 50%;z-index: 0;}#sk-container-id-2 div.sk-serial {display: flex;flex-direction: column;align-items: center;background-color: white;padding-right: 0.2em;padding-left: 0.2em;position: relative;}#sk-container-id-2 div.sk-item {position: relative;z-index: 1;}#sk-container-id-2 div.sk-parallel {display: flex;align-items: stretch;justify-content: center;background-color: white;position: relative;}#sk-container-id-2 div.sk-item::before, #sk-container-id-2 div.sk-parallel-item::before {content: \"\";position: absolute;border-left: 1px solid gray;box-sizing: border-box;top: 0;bottom: 0;left: 50%;z-index: -1;}#sk-container-id-2 div.sk-parallel-item {display: flex;flex-direction: column;z-index: 1;position: relative;background-color: white;}#sk-container-id-2 div.sk-parallel-item:first-child::after {align-self: flex-end;width: 50%;}#sk-container-id-2 div.sk-parallel-item:last-child::after {align-self: flex-start;width: 50%;}#sk-container-id-2 div.sk-parallel-item:only-child::after {width: 0;}#sk-container-id-2 div.sk-dashed-wrapped {border: 1px dashed gray;margin: 0 0.4em 0.5em 0.4em;box-sizing: border-box;padding-bottom: 0.4em;background-color: white;}#sk-container-id-2 div.sk-label label {font-family: monospace;font-weight: bold;display: inline-block;line-height: 1.2em;}#sk-container-id-2 div.sk-label-container {text-align: center;}#sk-container-id-2 div.sk-container {/* jupyter's `normalize.less` sets `[hidden] { display: none; }` but bootstrap.min.css set `[hidden] { display: none !important; }` so we also need the `!important` here to be able to override the default hidden behavior on the sphinx rendered scikit-learn.org. See: https://github.com/scikit-learn/scikit-learn/issues/21755 */display: inline-block !important;position: relative;}#sk-container-id-2 div.sk-text-repr-fallback {display: none;}</style><div id=\"sk-container-id-2\" class=\"sk-top-container\"><div class=\"sk-text-repr-fallback\"><pre>RandomizedSearchCV(cv=5, estimator=SVC(class_weight=&#x27;balanced&#x27;), n_iter=50,\n",
              "                   param_distributions=[{&#x27;C&#x27;: &lt;scipy.stats._distn_infrastructure.rv_continuous_frozen object at 0x780725df2740&gt;,\n",
              "                                         &#x27;kernel&#x27;: [&#x27;linear&#x27;]},\n",
              "                                        {&#x27;C&#x27;: &lt;scipy.stats._distn_infrastructure.rv_continuous_frozen object at 0x780725df2a40&gt;,\n",
              "                                         &#x27;gamma&#x27;: &lt;scipy.stats._distn_infrastructure.rv_continuous_frozen object at 0x780725df2800&gt;,\n",
              "                                         &#x27;kernel&#x27;: [&#x27;rbf&#x27;]}])</pre><b>In a Jupyter environment, please rerun this cell to show the HTML representation or trust the notebook. <br />On GitHub, the HTML representation is unable to render, please try loading this page with nbviewer.org.</b></div><div class=\"sk-container\" hidden><div class=\"sk-item sk-dashed-wrapped\"><div class=\"sk-label-container\"><div class=\"sk-label sk-toggleable\"><input class=\"sk-toggleable__control sk-hidden--visually\" id=\"sk-estimator-id-4\" type=\"checkbox\" ><label for=\"sk-estimator-id-4\" class=\"sk-toggleable__label sk-toggleable__label-arrow\">RandomizedSearchCV</label><div class=\"sk-toggleable__content\"><pre>RandomizedSearchCV(cv=5, estimator=SVC(class_weight=&#x27;balanced&#x27;), n_iter=50,\n",
              "                   param_distributions=[{&#x27;C&#x27;: &lt;scipy.stats._distn_infrastructure.rv_continuous_frozen object at 0x780725df2740&gt;,\n",
              "                                         &#x27;kernel&#x27;: [&#x27;linear&#x27;]},\n",
              "                                        {&#x27;C&#x27;: &lt;scipy.stats._distn_infrastructure.rv_continuous_frozen object at 0x780725df2a40&gt;,\n",
              "                                         &#x27;gamma&#x27;: &lt;scipy.stats._distn_infrastructure.rv_continuous_frozen object at 0x780725df2800&gt;,\n",
              "                                         &#x27;kernel&#x27;: [&#x27;rbf&#x27;]}])</pre></div></div></div><div class=\"sk-parallel\"><div class=\"sk-parallel-item\"><div class=\"sk-item\"><div class=\"sk-label-container\"><div class=\"sk-label sk-toggleable\"><input class=\"sk-toggleable__control sk-hidden--visually\" id=\"sk-estimator-id-5\" type=\"checkbox\" ><label for=\"sk-estimator-id-5\" class=\"sk-toggleable__label sk-toggleable__label-arrow\">estimator: SVC</label><div class=\"sk-toggleable__content\"><pre>SVC(class_weight=&#x27;balanced&#x27;)</pre></div></div></div><div class=\"sk-serial\"><div class=\"sk-item\"><div class=\"sk-estimator sk-toggleable\"><input class=\"sk-toggleable__control sk-hidden--visually\" id=\"sk-estimator-id-6\" type=\"checkbox\" ><label for=\"sk-estimator-id-6\" class=\"sk-toggleable__label sk-toggleable__label-arrow\">SVC</label><div class=\"sk-toggleable__content\"><pre>SVC(class_weight=&#x27;balanced&#x27;)</pre></div></div></div></div></div></div></div></div></div></div>"
            ]
          },
          "metadata": {},
          "execution_count": 9
        }
      ]
    },
    {
      "cell_type": "markdown",
      "source": [
        "**Random Forest**: An ensemble method that builds multiple decision trees and merges their outputs for improved accuracy and robustness against overfitting."
      ],
      "metadata": {
        "id": "NicJuexX6RrD"
      }
    },
    {
      "cell_type": "code",
      "source": [
        "param_distribs_rf = {\n",
        "    'n_estimators': randint(low=10, high=200),\n",
        "    'max_features': ['auto', 'sqrt', 'log2'],\n",
        "    'max_depth': randint(low=1, high=40),\n",
        "    'min_samples_split': randint(low=2, high=40),\n",
        "    'min_samples_leaf': randint(low=1, high=40),\n",
        "    'bootstrap': [True, False]\n",
        "}\n",
        "\n",
        "forest_clf = RandomForestClassifier(random_state=42, class_weight='balanced')\n",
        "rnd_search_rf = RandomizedSearchCV(forest_clf, param_distributions=param_distribs_rf,\n",
        "                                   n_iter=100, cv=5, verbose=2, random_state=42, n_jobs=-1)\n",
        "rnd_search_rf.fit(X_train_transformed, y_train)"
      ],
      "metadata": {
        "colab": {
          "base_uri": "https://localhost:8080/",
          "height": 189
        },
        "id": "a8xeKonU6BZw",
        "outputId": "eca64f0e-913c-4782-9d49-1bf7cfba051e"
      },
      "execution_count": 10,
      "outputs": [
        {
          "output_type": "stream",
          "name": "stdout",
          "text": [
            "Fitting 5 folds for each of 100 candidates, totalling 500 fits\n"
          ]
        },
        {
          "output_type": "stream",
          "name": "stderr",
          "text": [
            "/usr/local/lib/python3.10/dist-packages/sklearn/ensemble/_forest.py:424: FutureWarning: `max_features='auto'` has been deprecated in 1.1 and will be removed in 1.3. To keep the past behaviour, explicitly set `max_features='sqrt'` or remove this parameter as it is also the default value for RandomForestClassifiers and ExtraTreesClassifiers.\n",
            "  warn(\n"
          ]
        },
        {
          "output_type": "execute_result",
          "data": {
            "text/plain": [
              "RandomizedSearchCV(cv=5,\n",
              "                   estimator=RandomForestClassifier(class_weight='balanced',\n",
              "                                                    random_state=42),\n",
              "                   n_iter=100, n_jobs=-1,\n",
              "                   param_distributions={'bootstrap': [True, False],\n",
              "                                        'max_depth': <scipy.stats._distn_infrastructure.rv_discrete_frozen object at 0x780725df2980>,\n",
              "                                        'max_features': ['auto', 'sqrt',\n",
              "                                                         'log2'],\n",
              "                                        'min_samples_leaf': <scipy.stats._distn_infrastructure.rv_discrete_frozen object at 0x780725f824a0>,\n",
              "                                        'min_samples_split': <scipy.stats._distn_infrastructure.rv_discrete_frozen object at 0x780725df3970>,\n",
              "                                        'n_estimators': <scipy.stats._distn_infrastructure.rv_discrete_frozen object at 0x78075ae46cb0>},\n",
              "                   random_state=42, verbose=2)"
            ],
            "text/html": [
              "<style>#sk-container-id-3 {color: black;background-color: white;}#sk-container-id-3 pre{padding: 0;}#sk-container-id-3 div.sk-toggleable {background-color: white;}#sk-container-id-3 label.sk-toggleable__label {cursor: pointer;display: block;width: 100%;margin-bottom: 0;padding: 0.3em;box-sizing: border-box;text-align: center;}#sk-container-id-3 label.sk-toggleable__label-arrow:before {content: \"▸\";float: left;margin-right: 0.25em;color: #696969;}#sk-container-id-3 label.sk-toggleable__label-arrow:hover:before {color: black;}#sk-container-id-3 div.sk-estimator:hover label.sk-toggleable__label-arrow:before {color: black;}#sk-container-id-3 div.sk-toggleable__content {max-height: 0;max-width: 0;overflow: hidden;text-align: left;background-color: #f0f8ff;}#sk-container-id-3 div.sk-toggleable__content pre {margin: 0.2em;color: black;border-radius: 0.25em;background-color: #f0f8ff;}#sk-container-id-3 input.sk-toggleable__control:checked~div.sk-toggleable__content {max-height: 200px;max-width: 100%;overflow: auto;}#sk-container-id-3 input.sk-toggleable__control:checked~label.sk-toggleable__label-arrow:before {content: \"▾\";}#sk-container-id-3 div.sk-estimator input.sk-toggleable__control:checked~label.sk-toggleable__label {background-color: #d4ebff;}#sk-container-id-3 div.sk-label input.sk-toggleable__control:checked~label.sk-toggleable__label {background-color: #d4ebff;}#sk-container-id-3 input.sk-hidden--visually {border: 0;clip: rect(1px 1px 1px 1px);clip: rect(1px, 1px, 1px, 1px);height: 1px;margin: -1px;overflow: hidden;padding: 0;position: absolute;width: 1px;}#sk-container-id-3 div.sk-estimator {font-family: monospace;background-color: #f0f8ff;border: 1px dotted black;border-radius: 0.25em;box-sizing: border-box;margin-bottom: 0.5em;}#sk-container-id-3 div.sk-estimator:hover {background-color: #d4ebff;}#sk-container-id-3 div.sk-parallel-item::after {content: \"\";width: 100%;border-bottom: 1px solid gray;flex-grow: 1;}#sk-container-id-3 div.sk-label:hover label.sk-toggleable__label {background-color: #d4ebff;}#sk-container-id-3 div.sk-serial::before {content: \"\";position: absolute;border-left: 1px solid gray;box-sizing: border-box;top: 0;bottom: 0;left: 50%;z-index: 0;}#sk-container-id-3 div.sk-serial {display: flex;flex-direction: column;align-items: center;background-color: white;padding-right: 0.2em;padding-left: 0.2em;position: relative;}#sk-container-id-3 div.sk-item {position: relative;z-index: 1;}#sk-container-id-3 div.sk-parallel {display: flex;align-items: stretch;justify-content: center;background-color: white;position: relative;}#sk-container-id-3 div.sk-item::before, #sk-container-id-3 div.sk-parallel-item::before {content: \"\";position: absolute;border-left: 1px solid gray;box-sizing: border-box;top: 0;bottom: 0;left: 50%;z-index: -1;}#sk-container-id-3 div.sk-parallel-item {display: flex;flex-direction: column;z-index: 1;position: relative;background-color: white;}#sk-container-id-3 div.sk-parallel-item:first-child::after {align-self: flex-end;width: 50%;}#sk-container-id-3 div.sk-parallel-item:last-child::after {align-self: flex-start;width: 50%;}#sk-container-id-3 div.sk-parallel-item:only-child::after {width: 0;}#sk-container-id-3 div.sk-dashed-wrapped {border: 1px dashed gray;margin: 0 0.4em 0.5em 0.4em;box-sizing: border-box;padding-bottom: 0.4em;background-color: white;}#sk-container-id-3 div.sk-label label {font-family: monospace;font-weight: bold;display: inline-block;line-height: 1.2em;}#sk-container-id-3 div.sk-label-container {text-align: center;}#sk-container-id-3 div.sk-container {/* jupyter's `normalize.less` sets `[hidden] { display: none; }` but bootstrap.min.css set `[hidden] { display: none !important; }` so we also need the `!important` here to be able to override the default hidden behavior on the sphinx rendered scikit-learn.org. See: https://github.com/scikit-learn/scikit-learn/issues/21755 */display: inline-block !important;position: relative;}#sk-container-id-3 div.sk-text-repr-fallback {display: none;}</style><div id=\"sk-container-id-3\" class=\"sk-top-container\"><div class=\"sk-text-repr-fallback\"><pre>RandomizedSearchCV(cv=5,\n",
              "                   estimator=RandomForestClassifier(class_weight=&#x27;balanced&#x27;,\n",
              "                                                    random_state=42),\n",
              "                   n_iter=100, n_jobs=-1,\n",
              "                   param_distributions={&#x27;bootstrap&#x27;: [True, False],\n",
              "                                        &#x27;max_depth&#x27;: &lt;scipy.stats._distn_infrastructure.rv_discrete_frozen object at 0x780725df2980&gt;,\n",
              "                                        &#x27;max_features&#x27;: [&#x27;auto&#x27;, &#x27;sqrt&#x27;,\n",
              "                                                         &#x27;log2&#x27;],\n",
              "                                        &#x27;min_samples_leaf&#x27;: &lt;scipy.stats._distn_infrastructure.rv_discrete_frozen object at 0x780725f824a0&gt;,\n",
              "                                        &#x27;min_samples_split&#x27;: &lt;scipy.stats._distn_infrastructure.rv_discrete_frozen object at 0x780725df3970&gt;,\n",
              "                                        &#x27;n_estimators&#x27;: &lt;scipy.stats._distn_infrastructure.rv_discrete_frozen object at 0x78075ae46cb0&gt;},\n",
              "                   random_state=42, verbose=2)</pre><b>In a Jupyter environment, please rerun this cell to show the HTML representation or trust the notebook. <br />On GitHub, the HTML representation is unable to render, please try loading this page with nbviewer.org.</b></div><div class=\"sk-container\" hidden><div class=\"sk-item sk-dashed-wrapped\"><div class=\"sk-label-container\"><div class=\"sk-label sk-toggleable\"><input class=\"sk-toggleable__control sk-hidden--visually\" id=\"sk-estimator-id-7\" type=\"checkbox\" ><label for=\"sk-estimator-id-7\" class=\"sk-toggleable__label sk-toggleable__label-arrow\">RandomizedSearchCV</label><div class=\"sk-toggleable__content\"><pre>RandomizedSearchCV(cv=5,\n",
              "                   estimator=RandomForestClassifier(class_weight=&#x27;balanced&#x27;,\n",
              "                                                    random_state=42),\n",
              "                   n_iter=100, n_jobs=-1,\n",
              "                   param_distributions={&#x27;bootstrap&#x27;: [True, False],\n",
              "                                        &#x27;max_depth&#x27;: &lt;scipy.stats._distn_infrastructure.rv_discrete_frozen object at 0x780725df2980&gt;,\n",
              "                                        &#x27;max_features&#x27;: [&#x27;auto&#x27;, &#x27;sqrt&#x27;,\n",
              "                                                         &#x27;log2&#x27;],\n",
              "                                        &#x27;min_samples_leaf&#x27;: &lt;scipy.stats._distn_infrastructure.rv_discrete_frozen object at 0x780725f824a0&gt;,\n",
              "                                        &#x27;min_samples_split&#x27;: &lt;scipy.stats._distn_infrastructure.rv_discrete_frozen object at 0x780725df3970&gt;,\n",
              "                                        &#x27;n_estimators&#x27;: &lt;scipy.stats._distn_infrastructure.rv_discrete_frozen object at 0x78075ae46cb0&gt;},\n",
              "                   random_state=42, verbose=2)</pre></div></div></div><div class=\"sk-parallel\"><div class=\"sk-parallel-item\"><div class=\"sk-item\"><div class=\"sk-label-container\"><div class=\"sk-label sk-toggleable\"><input class=\"sk-toggleable__control sk-hidden--visually\" id=\"sk-estimator-id-8\" type=\"checkbox\" ><label for=\"sk-estimator-id-8\" class=\"sk-toggleable__label sk-toggleable__label-arrow\">estimator: RandomForestClassifier</label><div class=\"sk-toggleable__content\"><pre>RandomForestClassifier(class_weight=&#x27;balanced&#x27;, random_state=42)</pre></div></div></div><div class=\"sk-serial\"><div class=\"sk-item\"><div class=\"sk-estimator sk-toggleable\"><input class=\"sk-toggleable__control sk-hidden--visually\" id=\"sk-estimator-id-9\" type=\"checkbox\" ><label for=\"sk-estimator-id-9\" class=\"sk-toggleable__label sk-toggleable__label-arrow\">RandomForestClassifier</label><div class=\"sk-toggleable__content\"><pre>RandomForestClassifier(class_weight=&#x27;balanced&#x27;, random_state=42)</pre></div></div></div></div></div></div></div></div></div></div>"
            ]
          },
          "metadata": {},
          "execution_count": 10
        }
      ]
    },
    {
      "cell_type": "markdown",
      "source": [
        "**Logistic Regression**: Despite its name, it's a binary classification algorithm. It estimates the probability that a given instance belongs to a particular category."
      ],
      "metadata": {
        "id": "5oQqX1iI6VeK"
      }
    },
    {
      "cell_type": "code",
      "source": [
        "param_distribs_log = {\n",
        "    'C': loguniform(1e-3, 1e3),\n",
        "    'penalty': ['l1', 'l2'],\n",
        "    'solver': ['liblinear', 'saga']\n",
        "}\n",
        "\n",
        "\n",
        "log_clf = LogisticRegression(max_iter=1000, random_state=42, class_weight='balanced')\n",
        "rnd_search_log = RandomizedSearchCV(log_clf, param_distributions=param_distribs_log,\n",
        "                                   n_iter=100, cv=5, verbose=2, random_state=42, n_jobs=-1)\n",
        "rnd_search_log.fit(X_train_transformed, y_train)"
      ],
      "metadata": {
        "colab": {
          "base_uri": "https://localhost:8080/",
          "height": 134
        },
        "id": "C0JpVZgi6DmA",
        "outputId": "9ac40690-2a4f-4828-ac6e-74cf18db5aaf"
      },
      "execution_count": 11,
      "outputs": [
        {
          "output_type": "stream",
          "name": "stdout",
          "text": [
            "Fitting 5 folds for each of 100 candidates, totalling 500 fits\n"
          ]
        },
        {
          "output_type": "execute_result",
          "data": {
            "text/plain": [
              "RandomizedSearchCV(cv=5,\n",
              "                   estimator=LogisticRegression(class_weight='balanced',\n",
              "                                                max_iter=1000,\n",
              "                                                random_state=42),\n",
              "                   n_iter=100, n_jobs=-1,\n",
              "                   param_distributions={'C': <scipy.stats._distn_infrastructure.rv_continuous_frozen object at 0x780725df3df0>,\n",
              "                                        'penalty': ['l1', 'l2'],\n",
              "                                        'solver': ['liblinear', 'saga']},\n",
              "                   random_state=42, verbose=2)"
            ],
            "text/html": [
              "<style>#sk-container-id-4 {color: black;background-color: white;}#sk-container-id-4 pre{padding: 0;}#sk-container-id-4 div.sk-toggleable {background-color: white;}#sk-container-id-4 label.sk-toggleable__label {cursor: pointer;display: block;width: 100%;margin-bottom: 0;padding: 0.3em;box-sizing: border-box;text-align: center;}#sk-container-id-4 label.sk-toggleable__label-arrow:before {content: \"▸\";float: left;margin-right: 0.25em;color: #696969;}#sk-container-id-4 label.sk-toggleable__label-arrow:hover:before {color: black;}#sk-container-id-4 div.sk-estimator:hover label.sk-toggleable__label-arrow:before {color: black;}#sk-container-id-4 div.sk-toggleable__content {max-height: 0;max-width: 0;overflow: hidden;text-align: left;background-color: #f0f8ff;}#sk-container-id-4 div.sk-toggleable__content pre {margin: 0.2em;color: black;border-radius: 0.25em;background-color: #f0f8ff;}#sk-container-id-4 input.sk-toggleable__control:checked~div.sk-toggleable__content {max-height: 200px;max-width: 100%;overflow: auto;}#sk-container-id-4 input.sk-toggleable__control:checked~label.sk-toggleable__label-arrow:before {content: \"▾\";}#sk-container-id-4 div.sk-estimator input.sk-toggleable__control:checked~label.sk-toggleable__label {background-color: #d4ebff;}#sk-container-id-4 div.sk-label input.sk-toggleable__control:checked~label.sk-toggleable__label {background-color: #d4ebff;}#sk-container-id-4 input.sk-hidden--visually {border: 0;clip: rect(1px 1px 1px 1px);clip: rect(1px, 1px, 1px, 1px);height: 1px;margin: -1px;overflow: hidden;padding: 0;position: absolute;width: 1px;}#sk-container-id-4 div.sk-estimator {font-family: monospace;background-color: #f0f8ff;border: 1px dotted black;border-radius: 0.25em;box-sizing: border-box;margin-bottom: 0.5em;}#sk-container-id-4 div.sk-estimator:hover {background-color: #d4ebff;}#sk-container-id-4 div.sk-parallel-item::after {content: \"\";width: 100%;border-bottom: 1px solid gray;flex-grow: 1;}#sk-container-id-4 div.sk-label:hover label.sk-toggleable__label {background-color: #d4ebff;}#sk-container-id-4 div.sk-serial::before {content: \"\";position: absolute;border-left: 1px solid gray;box-sizing: border-box;top: 0;bottom: 0;left: 50%;z-index: 0;}#sk-container-id-4 div.sk-serial {display: flex;flex-direction: column;align-items: center;background-color: white;padding-right: 0.2em;padding-left: 0.2em;position: relative;}#sk-container-id-4 div.sk-item {position: relative;z-index: 1;}#sk-container-id-4 div.sk-parallel {display: flex;align-items: stretch;justify-content: center;background-color: white;position: relative;}#sk-container-id-4 div.sk-item::before, #sk-container-id-4 div.sk-parallel-item::before {content: \"\";position: absolute;border-left: 1px solid gray;box-sizing: border-box;top: 0;bottom: 0;left: 50%;z-index: -1;}#sk-container-id-4 div.sk-parallel-item {display: flex;flex-direction: column;z-index: 1;position: relative;background-color: white;}#sk-container-id-4 div.sk-parallel-item:first-child::after {align-self: flex-end;width: 50%;}#sk-container-id-4 div.sk-parallel-item:last-child::after {align-self: flex-start;width: 50%;}#sk-container-id-4 div.sk-parallel-item:only-child::after {width: 0;}#sk-container-id-4 div.sk-dashed-wrapped {border: 1px dashed gray;margin: 0 0.4em 0.5em 0.4em;box-sizing: border-box;padding-bottom: 0.4em;background-color: white;}#sk-container-id-4 div.sk-label label {font-family: monospace;font-weight: bold;display: inline-block;line-height: 1.2em;}#sk-container-id-4 div.sk-label-container {text-align: center;}#sk-container-id-4 div.sk-container {/* jupyter's `normalize.less` sets `[hidden] { display: none; }` but bootstrap.min.css set `[hidden] { display: none !important; }` so we also need the `!important` here to be able to override the default hidden behavior on the sphinx rendered scikit-learn.org. See: https://github.com/scikit-learn/scikit-learn/issues/21755 */display: inline-block !important;position: relative;}#sk-container-id-4 div.sk-text-repr-fallback {display: none;}</style><div id=\"sk-container-id-4\" class=\"sk-top-container\"><div class=\"sk-text-repr-fallback\"><pre>RandomizedSearchCV(cv=5,\n",
              "                   estimator=LogisticRegression(class_weight=&#x27;balanced&#x27;,\n",
              "                                                max_iter=1000,\n",
              "                                                random_state=42),\n",
              "                   n_iter=100, n_jobs=-1,\n",
              "                   param_distributions={&#x27;C&#x27;: &lt;scipy.stats._distn_infrastructure.rv_continuous_frozen object at 0x780725df3df0&gt;,\n",
              "                                        &#x27;penalty&#x27;: [&#x27;l1&#x27;, &#x27;l2&#x27;],\n",
              "                                        &#x27;solver&#x27;: [&#x27;liblinear&#x27;, &#x27;saga&#x27;]},\n",
              "                   random_state=42, verbose=2)</pre><b>In a Jupyter environment, please rerun this cell to show the HTML representation or trust the notebook. <br />On GitHub, the HTML representation is unable to render, please try loading this page with nbviewer.org.</b></div><div class=\"sk-container\" hidden><div class=\"sk-item sk-dashed-wrapped\"><div class=\"sk-label-container\"><div class=\"sk-label sk-toggleable\"><input class=\"sk-toggleable__control sk-hidden--visually\" id=\"sk-estimator-id-10\" type=\"checkbox\" ><label for=\"sk-estimator-id-10\" class=\"sk-toggleable__label sk-toggleable__label-arrow\">RandomizedSearchCV</label><div class=\"sk-toggleable__content\"><pre>RandomizedSearchCV(cv=5,\n",
              "                   estimator=LogisticRegression(class_weight=&#x27;balanced&#x27;,\n",
              "                                                max_iter=1000,\n",
              "                                                random_state=42),\n",
              "                   n_iter=100, n_jobs=-1,\n",
              "                   param_distributions={&#x27;C&#x27;: &lt;scipy.stats._distn_infrastructure.rv_continuous_frozen object at 0x780725df3df0&gt;,\n",
              "                                        &#x27;penalty&#x27;: [&#x27;l1&#x27;, &#x27;l2&#x27;],\n",
              "                                        &#x27;solver&#x27;: [&#x27;liblinear&#x27;, &#x27;saga&#x27;]},\n",
              "                   random_state=42, verbose=2)</pre></div></div></div><div class=\"sk-parallel\"><div class=\"sk-parallel-item\"><div class=\"sk-item\"><div class=\"sk-label-container\"><div class=\"sk-label sk-toggleable\"><input class=\"sk-toggleable__control sk-hidden--visually\" id=\"sk-estimator-id-11\" type=\"checkbox\" ><label for=\"sk-estimator-id-11\" class=\"sk-toggleable__label sk-toggleable__label-arrow\">estimator: LogisticRegression</label><div class=\"sk-toggleable__content\"><pre>LogisticRegression(class_weight=&#x27;balanced&#x27;, max_iter=1000, random_state=42)</pre></div></div></div><div class=\"sk-serial\"><div class=\"sk-item\"><div class=\"sk-estimator sk-toggleable\"><input class=\"sk-toggleable__control sk-hidden--visually\" id=\"sk-estimator-id-12\" type=\"checkbox\" ><label for=\"sk-estimator-id-12\" class=\"sk-toggleable__label sk-toggleable__label-arrow\">LogisticRegression</label><div class=\"sk-toggleable__content\"><pre>LogisticRegression(class_weight=&#x27;balanced&#x27;, max_iter=1000, random_state=42)</pre></div></div></div></div></div></div></div></div></div></div>"
            ]
          },
          "metadata": {},
          "execution_count": 11
        }
      ]
    },
    {
      "cell_type": "markdown",
      "source": [
        "Using precision (how many selected items are relevant), recall (how many relevant items are selected), and the F1 score (harmonic mean of precision and recall), we evaluate each model's performance. These metrics provide a holistic view of a model's ability to correctly classify spam and ham emails without producing too many false positives or negatives."
      ],
      "metadata": {
        "id": "Lbv__nOrHzZr"
      }
    },
    {
      "cell_type": "code",
      "execution_count": 12,
      "metadata": {
        "colab": {
          "base_uri": "https://localhost:8080/",
          "height": 661
        },
        "id": "w_QvzxoIrO-t",
        "outputId": "6e1db544-f171-497b-ea5d-a8ffedf3092b"
      },
      "outputs": [
        {
          "output_type": "stream",
          "name": "stdout",
          "text": [
            "[{'name': 'KNN', 'precision': 0.9859154929577465, 'recall': 0.9695290858725761, 'f1': 0.9776536312849161}, {'name': 'SVM', 'precision': 0.9887323943661972, 'recall': 0.9722991689750693, 'f1': 0.9804469273743017}, {'name': 'Random Forest', 'precision': 0.9407008086253369, 'recall': 0.9667590027700831, 'f1': 0.953551912568306}, {'name': 'Logistic Regression', 'precision': 0.9831460674157303, 'recall': 0.9695290858725761, 'f1': 0.9762900976290098}]\n"
          ]
        },
        {
          "output_type": "display_data",
          "data": {
            "text/plain": [
              "<Figure size 1000x700 with 1 Axes>"
            ],
            "image/png": "[encoded data removed]"
          },
          "metadata": {}
        }
      ],
      "source": [
        "import matplotlib.pyplot as plt\n",
        "\n",
        "def evaluate_model(model, X_test, y_test, model_name):\n",
        "    y_pred = model.predict(X_test)\n",
        "    precision = precision_score(y_test, y_pred)\n",
        "    recall = recall_score(y_test, y_pred)\n",
        "    f1 = f1_score(y_test, y_pred)\n",
        "    return {\"name\": model_name, \"precision\": precision, \"recall\": recall, \"f1\": f1}\n",
        "\n",
        "models = [grid_search_knn, rnd_search_svc, rnd_search_rf, rnd_search_log]\n",
        "model_names = [\"KNN\", \"SVM\", \"Random Forest\", \"Logistic Regression\"]\n",
        "\n",
        "results = [evaluate_model(model, X_test_transformed, y_test, name) for model, name in zip(models, model_names)]\n",
        "\n",
        "print(results)\n",
        "\n",
        "names = [res[\"name\"] for res in results]\n",
        "precisions = [res[\"precision\"] for res in results]\n",
        "recalls = [res[\"recall\"] for res in results]\n",
        "f1_scores = [res[\"f1\"] for res in results]\n",
        "\n",
        "barWidth = 0.25\n",
        "r1 = range(len(precisions))\n",
        "r2 = [x + barWidth for x in r1]\n",
        "r3 = [x + barWidth for x in r2]\n",
        "\n",
        "plt.figure(figsize=(10, 7))\n",
        "plt.bar(r1, precisions, color='blue', width=barWidth, edgecolor='grey', label='Precision')\n",
        "plt.bar(r2, recalls, color='cyan', width=barWidth, edgecolor='grey', label='Recall')\n",
        "plt.bar(r3, f1_scores, color='red', width=barWidth, edgecolor='grey', label='F1 Score')\n",
        "\n",
        "plt.xlabel('Models', fontweight='bold')\n",
        "plt.xticks([r + barWidth for r in range(len(precisions))], names)\n",
        "\n",
        "plt.ylim([0.90, 1.0])\n",
        "\n",
        "plt.legend()\n",
        "plt.show()"
      ]
    },
    {
      "cell_type": "markdown",
      "source": [
        "# 5. Conclusions\n",
        "\n",
        "In our effort to create an effective spam filter, we've looked at how well four different methods work at catching spam emails. Remember, in our tests, spam emails are what we're calling the \"positive\" results. Here's what we found:\n",
        "\n",
        "1. **K-Nearest Neighbors (KNN)**:\n",
        "    - Precision: 98.59%\n",
        "    - Recall: 96.95%\n",
        "    - F1 Score: 97.77%\n",
        "    \n",
        "    KNN’s high precision means that when it flags an email as spam, there's a 98.59% chance that it's a genuine spam email. This reduces the risk of legitimate emails being mistakenly directed to the spam folder, which is critical for user satisfaction. Its strong recall suggests that it can identify nearly 97% of all spam emails, so users can be reasonably assured that most spam won't land in their main inbox.\n",
        "\n",
        "2. **Support Vector Machines (SVM)**:\n",
        "    - Precision: 98.87%\n",
        "    - Recall: 97.23%\n",
        "    - F1 Score: 98.04%\n",
        "    \n",
        "    SVM, with the highest precision among the models, minimizes the risk of \"false positives\" the most. In other words, the chance of a real, important email being mistakenly classified as spam is minimal. Its robust recall also implies that it's very effective at capturing spam emails, providing a nearly clutter-free inbox for users.\n",
        "\n",
        "3. **Random Forest**:\n",
        "    - Precision: 94.07%\n",
        "    - Recall: 96.68%\n",
        "    - F1 Score: 95.36%\n",
        "    \n",
        "    Random Forest, although robust, presents a slightly reduced precision. This implies a slightly increased risk that genuine emails might be flagged as spam. However, its high recall underscores its ability to trap a significant majority of spam emails. In spam detection, while precision is crucial to prevent user frustration, a high recall is also essential to maintain the integrity of a user's primary inbox.\n",
        "\n",
        "4. **Logistic Regression**:\n",
        "    - Precision: 98.31%\n",
        "    - Recall: 96.95%\n",
        "    - F1 Score: 97.63%\n",
        "    \n",
        "    Logistic Regression performs comparably to KNN, ensuring that legitimate emails are predominantly left untouched while effectively filtering out spam. Its balanced performance might make it an attractive choice for situations where both false positives and false negatives have considerable impact.\n",
        "\n",
        "**Overall Observations**:\n",
        "- Given the nature of spam classification, precision is a critical metric. Users can be particularly frustrated if genuine emails are classified as spam, potentially leading to missed opportunities or important information. In this regard, SVM emerges as the strongest contender.\n",
        "- However, the goal of a spam filter is also to prevent as many spam emails as possible from reaching the main inbox. Here, recall becomes vital, and models like KNN and SVM which maintain high recall rates are advantageous.\n",
        "- Considering the implications of missed spam (recall) and misclassified genuine emails (precision), the F1 score, which harmoniously balances these two metrics, is essential. Here again, SVM takes the lead, closely followed by KNN and Logistic Regression.\n",
        "- The slightly lower performance of Random Forest might suggest the need for more fine-tuning or that tree-based approaches might not be the optimal fit for this particular spam classification task.\n",
        "\n",
        "To conclude, building a spam classifier demands a nuanced balance between ensuring genuine emails are not misclassified while effectively filtering out unwanted spam. In our evaluations, SVM emerges as the most suitable candidate, but the final choice should be made considering other factors like computation resources, interpretability, and scalability, ensuring the model meets all business and user needs."
      ],
      "metadata": {
        "id": "aLOvvrwPEdRc"
      }
    }
  ],
  "metadata": {
    "colab": {
      "provenance": []
    },
    "kernelspec": {
      "display_name": "Python 3",
      "name": "python3"
    },
    "language_info": {
      "name": "python"
    }
  },
  "nbformat": 4,
  "nbformat_minor": 0
}